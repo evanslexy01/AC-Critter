{
 "cells": [
  {
   "cell_type": "code",
   "execution_count": 1,
   "metadata": {},
   "outputs": [],
   "source": [
    "import cv2\n",
    "import pytesseract\n",
    "import math\n",
    "import numpy as np\n",
    "\n",
    "pytesseract.pytesseract.tesseract_cmd = r'/opt/homebrew/bin/tesseract'\n"
   ]
  },
  {
   "cell_type": "code",
   "execution_count": 2,
   "metadata": {},
   "outputs": [],
   "source": [
    "\n",
    "cap = cv2.VideoCapture(0)\n",
    "record = []\n",
    "\n",
    "while True:\n",
    "    _,frame = cap.read()\n",
    "    imgH ,imgW,_ = frame.shape\n",
    "    x1,y1,w1,h1 = 0,0,imgH ,imgW\n",
    "    imgchar = pytesseract.image_to_string(frame)\n",
    "    imgboxes =  pytesseract.image_to_boxes(frame)\n",
    "    record.append(imgchar)\n",
    "    for boxes in imgboxes.splitlines():\n",
    "        boxes = boxes.split(' ')\n",
    "        x,y,w,h = int(boxes[1]),int(boxes[2]),int(boxes[3]),int(boxes[4])\n",
    "        cv2.rectangle(frame,(x,imgH-y),(w,imgH-h),(0,0,255),3)\n",
    "        cv2.putText(frame,imgchar,(x1 +int(w1/50),y1+int(h1/50)),cv2.FONT_HERSHEY_COMPLEX,0.7,(0,0,255),2) \n",
    "    cv2.imshow('text',frame)\n",
    "    if cv2.waitKey(1) & 0xFF ==ord('q'):\n",
    "        break\n",
    "\n",
    "cap.release()\n",
    "cv2.destroyAllWindows()\n",
    "\n",
    " "
   ]
  },
  {
   "cell_type": "code",
   "execution_count": 10,
   "metadata": {},
   "outputs": [],
   "source": [
    "\n",
    "scans = ['Fossils', 'Gyroids', 'Songs', 'Art']\n",
    "categories = ['Boioingoid', 'Bubbloid', 'Bwongoid','Crumploid', 'Dootoid']\n",
    "\n",
    "record = ''.join(record)\n",
    "have = [item for item in categories if item in record]"
   ]
  }
 ],
 "metadata": {
  "kernelspec": {
   "display_name": "Python 3.10.4 64-bit",
   "language": "python",
   "name": "python3"
  },
  "language_info": {
   "codemirror_mode": {
    "name": "ipython",
    "version": 3
   },
   "file_extension": ".py",
   "mimetype": "text/x-python",
   "name": "python",
   "nbconvert_exporter": "python",
   "pygments_lexer": "ipython3",
   "version": "3.10.4"
  },
  "orig_nbformat": 4,
  "vscode": {
   "interpreter": {
    "hash": "aee8b7b246df8f9039afb4144a1f6fd8d2ca17a180786b69acc140d282b71a49"
   }
  }
 },
 "nbformat": 4,
 "nbformat_minor": 2
}
