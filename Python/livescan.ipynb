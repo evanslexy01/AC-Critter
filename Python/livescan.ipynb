{
 "cells": [
  {
   "cell_type": "code",
   "execution_count": null,
   "metadata": {},
   "outputs": [],
   "source": [
    "import cv2\n",
    "import pytesseract\n",
    "import math\n",
    "import numpy as np\n",
    "\n",
    "pytesseract.pytesseract.tesseract_cmd = r'/opt/homebrew/bin/tesseract'\n"
   ]
  },
  {
   "cell_type": "code",
   "execution_count": null,
   "metadata": {},
   "outputs": [],
   "source": [
    "\n",
    "cap = cv2.VideoCapture(0)\n",
    "record = []\n",
    "\n",
    "while True:\n",
    "    _,frame = cap.read()\n",
    "    imgH ,imgW,_ = frame.shape\n",
    "    x1,y1,w1,h1 = 0,0,imgH ,imgW\n",
    "    imgchar = pytesseract.image_to_string(frame)\n",
    "    imgboxes =  pytesseract.image_to_boxes(frame)\n",
    "    record.append(imgchar)\n",
    "    for boxes in imgboxes.splitlines():\n",
    "        boxes = boxes.split(' ')\n",
    "        x,y,w,h = int(boxes[1]),int(boxes[2]),int(boxes[3]),int(boxes[4])\n",
    "        cv2.rectangle(frame,(x,imgH-y),(w,imgH-h),(0,0,255),3)\n",
    "        cv2.putText(frame,imgchar,(x1 +int(w1/50),y1+int(h1/50)),cv2.FONT_HERSHEY_COMPLEX,0.7,(0,0,255),2) \n",
    "    cv2.imshow('text',frame)\n",
    "    if cv2.waitKey(1) & 0xFF ==ord('q'):\n",
    "        break\n",
    "\n",
    "cap.release()\n",
    "cv2.destroyAllWindows()\n",
    "\n",
    " "
   ]
  },
  {
   "cell_type": "code",
   "execution_count": null,
   "metadata": {},
   "outputs": [],
   "source": [
    "\n",
    "fossils = ['Acanthostega', 'Amber', 'Ammonite', 'Ankylo Skull', 'Ankylo Tail', 'Ankylo Torso', 'Anomalocaris', 'Archaeopteryx', 'Archelon Skull', 'Archelon Tail', 'Australopith', 'Brachio Chest', 'Brachio Pelvis', 'Brachio Skull', 'Brachio Tail', 'Coprolite', 'Deinony Tail', 'Deinony Torso', 'Dimetrodon Skull', 'Dimetrodon Torso', 'Dinosaur Track','Diplo Chest', 'Diplo Neck', 'Diplo Pelvis', 'Diplo Skull', 'Diplo Tail', 'Diplo Tail Tip', 'Dunkleosteus', 'Eusthenopteron', 'Iguanodon Skull', 'Iguanodon Tail', 'Iguanodon Torso', 'Juramaia', 'Left Megalo Side', 'Left Ptera Wing', 'Left Quetzal Wing', 'Mammoth Skull', 'Mammoth Torso', 'Megacero Skull', 'Megacero Tail', 'Megacero Torso', 'Myllokunmingia', 'Ophthalmo Skull', 'Ophthalmo Torso', 'Pachy Skull', 'Pachy Tail', 'Parasaur Skull', 'Parasaur Tail', 'Parasaur Torso', 'Plesio Torso', 'Plesio Skull', 'Plesio Tail', 'Ptera Body', 'Quetzal Torso', 'Right Megalo Side', 'Right Ptera Wing', 'Right Quetzal Wing', 'Sabertooth Skull', 'Sabertooth Tail', 'Shark-Tooth Pattern', 'Spino Skull', 'Spino Tail', 'Spino Torso', 'Stego Skull', 'Stego Tail', 'Stego Torso', 'T. Rex Skull', 'T. Rex Tail', 'T. Rex Torso', 'Tricera Skull', 'Tricera Tail', 'Tricera Torso','Trilobite']\n",
    "gyroids = ['Aluminoid', 'Arfoid', 'Babbloid', 'Bendoid', 'Bloopoid', 'Boioingoid', 'Boomoid', 'Brewstoid', 'Bubbloid', 'Bwongoid', 'Clatteroid', 'Crumploid', 'Dootoid', 'Drummoid', 'Flutteroid', 'Jingloid', 'Laseroid', 'Oinkoid', 'Petaloid', 'Rattloid', 'Ringoid', 'Rumbloid', 'Scatteroid', 'Spikenoid', 'Sproingoid', 'Squeakoid', 'Squeezoid', 'Stelloid', 'Thwopoid', 'Tockoid', 'Tremoloid', 'Twangoid', 'Wallopoid', 'Whirroid', 'Whistloid', 'Xylophoid']\n",
    "songs = ['Agent K.K.', 'Aloha K.K.', 'Animal City', 'Bubblegum K.K.', 'Café K.K.', 'Comrade K.K.', 'DJ K.K.', 'Drivin', 'Farewell', 'Forest Life', 'Go K.K. Rider', 'Hypno K.K.', 'I Love You', 'Imperial K.K.', 'K.K. Adventure', 'K.K. Aria', 'K.K. Ballad', 'K.K. Bazaar', 'K.K. Birthday', 'K.K. Blues', 'K.K. Bossa', 'K.K. Calypso', 'K.K. Casbah', 'K.K. Chorale', 'K.K. Condor', 'K.K. Country', 'K.K. Cruisin', 'K.K. D&B', 'K.K. Dirge', 'K.K. Disco', 'K.K. Dixie', 'K.K. Étude', 'K.K. Faire', 'K.K. Flamenco', 'K.K. Folk', 'K.K. Fusion', 'K.K. Groove', 'K.K. Gumbo', 'K.K. House', 'K.K. Island', 'K.K. Jazz', 'K.K. Jongara', 'K.K. Lament', 'K.K. Love Song', 'K.K. Lullaby', 'K.K. Mambo', 'K.K. Marathon', 'K.K. March', 'K.K. Mariachi', 'K.K. Metal', 'K.K. Milonga', 'K.K. Moody', 'K.K. Oasis', 'K.K. Parade', 'K.K. Ragtime', 'K.K. Rally', 'K.K. Reggae', 'K.K. Rock', 'K.K. Rockabilly', 'K.K. Safari', 'K.K. Salsa', 'K.K. Samba', 'K.K. Ska', 'K.K. Sonata', 'K.K. Song', 'K.K. Soul', 'K.K. Steppe', 'K.K. Stroll', 'K.K. Swing', 'K.K. Synth', 'K.K. Tango', 'K.K. Technopop', 'K.K. Waltz', 'K.K. Western', 'King K.K.', 'Lucky K.K.', 'Marine Song 2001', 'Mountain Song', 'Mr. K.K.', 'My Place', 'Neapolitan', 'Only Me', 'Pondering', 'Rockin K.K.', 'Soulful K.K.', 'Space K.K.', 'Spring Blossoms', 'Stale Cupcakes', 'Steep Hill', 'Surfin K.K.', 'The K. Funk', 'To the Edge', 'Two Days Ago', 'Wandering', 'Welcome Horizons', 'K.K. Fugue', 'K.K. Polka', 'K.K. Slack-Key', 'K.K. Chorinho', 'Chillwave', 'K.K. Dub', 'K.K. Lovers', 'K.K. Bashment', 'K.K. Hop', 'K.K. Break', 'K.K. Khoomei', 'K.K. Robot Synth']\n",
    "art = ['Academic painting', 'Amazing painting', 'Basic painting', 'Calm painting', 'Common painting', 'Detailed painting', 'Dynamic painting', 'Famous painting', 'Flowery painting', 'Glowing painting', 'Graceful painting', 'Jolly painting', 'Moody painting', 'Moving painting', 'Mysterious painting', 'Nice painting', 'Perfect painting', 'Proper painting', 'Quaint painting', 'Scary painting', 'Scenic painting', 'Serene painting', 'Sinking painting', 'Solemn painting', 'Twinkling painting', 'Warm painting', 'Wistful painting', 'Worthy painting', 'Beautiful statue', 'Familiar statue', 'Gallant statue', 'Great statue', 'Informative statue', 'Motherly statue', 'Mystic statue', 'Robust statue', 'Rock-head statue', 'Tremendous statue', 'Valiant statue', 'Warrior statue', 'Wild painting left half', 'Wild painting right half']\n",
    "\n",
    "category = [x.lower() for x in art]\n",
    "\n",
    "record = (''.join(record)).lower()\n",
    "have = [item for item in category if item in record]\n",
    "need = [item for item in category if item not in have]"
   ]
  }
 ],
 "metadata": {
  "kernelspec": {
   "display_name": "Python 3.10.4 64-bit",
   "language": "python",
   "name": "python3"
  },
  "language_info": {
   "codemirror_mode": {
    "name": "ipython",
    "version": 3
   },
   "file_extension": ".py",
   "mimetype": "text/x-python",
   "name": "python",
   "nbconvert_exporter": "python",
   "pygments_lexer": "ipython3",
   "version": "3.10.4"
  },
  "orig_nbformat": 4,
  "vscode": {
   "interpreter": {
    "hash": "aee8b7b246df8f9039afb4144a1f6fd8d2ca17a180786b69acc140d282b71a49"
   }
  }
 },
 "nbformat": 4,
 "nbformat_minor": 2
}
